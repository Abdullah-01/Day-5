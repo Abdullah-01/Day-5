{
 "cells": [
  {
   "cell_type": "markdown",
   "metadata": {},
   "source": [
    "# Python_Lab_3\n"
   ]
  },
  {
   "cell_type": "markdown",
   "metadata": {},
   "source": [
    "### Task 1\n",
    "- Write a function named **'create_student_records'** that takes a list of tuples. Each tuple contains a student's name and their scores in three subjects. The function should return a list of dictionaries, where each dictionary represents a student with keys: name, subject1, subject2, subject3. Use list comprehension to create the list of dictionaries."
   ]
  },
  {
   "cell_type": "code",
   "execution_count": 16,
   "metadata": {},
   "outputs": [
    {
     "name": "stdout",
     "output_type": "stream",
     "text": [
      "[{'name': 'Abdullah', 'subject1': 98, 'subject2': 95, 'subject3': 99}, {'name': 'Khaled', 'subject1': 85, 'subject2': 93, 'subject3': 97}, {'name': 'Fahad', 'subject1': 65, 'subject2': 60, 'subject3': 94}, {'name': 'Waleed', 'subject1': 100, 'subject2': 88, 'subject3': 94}]\n"
     ]
    }
   ],
   "source": [
    "def create_student_records(x):\n",
    "    return [{\n",
    "        \"name\" : y[0],\n",
    "        \"subject1\" : y[1],\n",
    "        \"subject2\" : y[2],\n",
    "        \"subject3\" : y[3]\n",
    "    } for y in x ] \n",
    "student_dict = create_student_records([(\"Abdullah\" , 98 , 95 ,99) , (\"Khaled\" , 85 , 93 , 97) ,\n",
    "                              (\"Fahad\" , 65 ,60 ,94), (\"Waleed\" , 100 , 88 , 94)])\n",
    "print(student_dict)\n",
    "    \n",
    "    "
   ]
  },
  {
   "cell_type": "markdown",
   "metadata": {},
   "source": [
    "### Task 2\n",
    "- Write a function named **'filter_and_sort_students'** that takes the list of dictionaries from Question 1 and returns a sorted list of student names who have an average score of 80 or more across all subjects. Sort the names in alphabetical order."
   ]
  },
  {
   "cell_type": "code",
   "execution_count": 18,
   "metadata": {},
   "outputs": [
    {
     "name": "stdout",
     "output_type": "stream",
     "text": [
      "['Abdullah', 'Khaled', 'Waleed']\n"
     ]
    }
   ],
   "source": [
    "def filter_and_sort_students(x):\n",
    "    return sorted([s[\"name\"] for s in x if (s[\"subject1\"] + s[\"subject2\"] + s[\"subject3\"]) /3 >= 80])\n",
    "\n",
    "print(filter_and_sort_students(student_dict))"
   ]
  },
  {
   "cell_type": "markdown",
   "metadata": {},
   "source": [
    "### Task 3\n",
    "- Write a function named **'get_product_info'** that prompts the user to enter information about a product. The function should ask for the product name, product price, and product quantity. If the user enters an invalid input (e.g., a non-numeric value for the price or quantity), the function should handle the error and prompt the user to enter the value again. Return a dictionary containing the product information."
   ]
  },
  {
   "cell_type": "code",
   "execution_count": 30,
   "metadata": {},
   "outputs": [
    {
     "name": "stdin",
     "output_type": "stream",
     "text": [
      "Enter product name:  Iphone\n",
      "Enter product price:  3000\n",
      "Enter product quantity:  1\n"
     ]
    },
    {
     "name": "stdout",
     "output_type": "stream",
     "text": [
      "{'name': 'Iphone', 'price': 3000.0, 'quaitity': 1.0}\n"
     ]
    }
   ],
   "source": [
    "def get_product_info():\n",
    "    product={}\n",
    "\n",
    "    product[\"name\"] = input(\"Enter product name: \")\n",
    "\n",
    "    while True:\n",
    "        try:\n",
    "            product[\"price\"] = float(input(\"Enter product price: \"))\n",
    "            break\n",
    "        except ValueError:\n",
    "            print(\"Please enter numeric value!\")\n",
    "\n",
    "    while True:\n",
    "        try:\n",
    "            product[\"quaitity\"] = float(input(\"Enter product quantity: \"))\n",
    "            break\n",
    "        except ValueError:\n",
    "            print(\"Please enter numeric value!\")\n",
    "    return product\n",
    "\n",
    "print(get_product_info())"
   ]
  },
  {
   "cell_type": "markdown",
   "metadata": {},
   "source": [
    "### Task 4\n",
    "- Write a function named **'get_even_numbers'** that takes a list of integers and returns a list of even numbers using list comprehension."
   ]
  },
  {
   "cell_type": "code",
   "execution_count": 35,
   "metadata": {},
   "outputs": [
    {
     "name": "stdout",
     "output_type": "stream",
     "text": [
      "[2, 4, 6, 8, 10, 12]\n"
     ]
    }
   ],
   "source": [
    "def get_even_numbers(x):\n",
    "    return [i for i in x if i % 2 == 0]\n",
    "    \n",
    "print(get_even_numbers([1,2,3,4,5,6,7,8,9,10,11,12]))"
   ]
  },
  {
   "cell_type": "markdown",
   "metadata": {},
   "source": [
    "### Task 5\n",
    "- Write a function named **'pair_elements'** that takes two lists of equal length as parameters and returns a list of tuples, where each tuple contains corresponding elements from the two lists. Use the zip function to achieve this."
   ]
  },
  {
   "cell_type": "code",
   "execution_count": 39,
   "metadata": {},
   "outputs": [
    {
     "name": "stdout",
     "output_type": "stream",
     "text": [
      "[(1, 4), (2, 5), (3, 6)]\n"
     ]
    }
   ],
   "source": [
    "def pair_elements(x,y):\n",
    "    return list(zip(x,y))\n",
    "\n",
    "print(pair_elements([1,2,3],[4,5,6]))"
   ]
  },
  {
   "cell_type": "markdown",
   "metadata": {},
   "source": [
    "### Task 6\n",
    "- Write a function named **'square_dict_lambda'** that takes a list of integers and returns a dictionary where the keys are the integers and the values are their squares. Use a lambda function within a dictionary comprehension to achieve this."
   ]
  },
  {
   "cell_type": "code",
   "execution_count": 41,
   "metadata": {},
   "outputs": [
    {
     "name": "stdout",
     "output_type": "stream",
     "text": [
      "{1: 1, 2: 4, 3: 9, 4: 16, 5: 25, 6: 36, 7: 49, 8: 64, 9: 81, 10: 100}\n"
     ]
    }
   ],
   "source": [
    "def square_dict_lambda(x):\n",
    "    return {i : (lambda x : x**2)(i) for i in x}\n",
    "\n",
    "print(square_dict_lambda([1,2,3,4,5,6,7,8,9,10]))"
   ]
  },
  {
   "cell_type": "code",
   "execution_count": null,
   "metadata": {},
   "outputs": [],
   "source": []
  }
 ],
 "metadata": {
  "kernelspec": {
   "display_name": "Python 3 (ipykernel)",
   "language": "python",
   "name": "python3"
  },
  "language_info": {
   "codemirror_mode": {
    "name": "ipython",
    "version": 3
   },
   "file_extension": ".py",
   "mimetype": "text/x-python",
   "name": "python",
   "nbconvert_exporter": "python",
   "pygments_lexer": "ipython3",
   "version": "3.12.4"
  }
 },
 "nbformat": 4,
 "nbformat_minor": 4
}
